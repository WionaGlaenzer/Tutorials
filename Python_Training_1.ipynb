{
 "cells": [
  {
   "cell_type": "markdown",
   "id": "ad9d15e7",
   "metadata": {},
   "source": [
    "# Welcome to Python Training 1"
   ]
  },
  {
   "cell_type": "markdown",
   "id": "1012eb90",
   "metadata": {},
   "source": [
    "Usually the first code block of a project imports dependencies:"
   ]
  },
  {
   "cell_type": "code",
   "execution_count": 1,
   "id": "64fae0c7",
   "metadata": {},
   "outputs": [],
   "source": [
    "import numpy as np"
   ]
  },
  {
   "cell_type": "markdown",
   "id": "b0cb513d",
   "metadata": {},
   "source": [
    "If importing a library gives an error message: \\\n",
    "    1. close jupyter notebooks and open it again in the correct environment or \\\n",
    "    2. install the library using \"pip install library name\" in the terminal of the environment (anaconda navigator > environments > small arrow next to environment name) \"
   ]
  },
  {
   "cell_type": "markdown",
   "id": "79047922",
   "metadata": {},
   "source": [
    "<span style=\"color:blue\"> Let's try it: </span>"
   ]
  },
  {
   "cell_type": "code",
   "execution_count": 2,
   "id": "02f1374a",
   "metadata": {},
   "outputs": [],
   "source": [
    "import antigravity"
   ]
  },
  {
   "cell_type": "markdown",
   "id": "9113c5bd",
   "metadata": {},
   "source": [
    "After importing a library, you can access its functions with the name you have given it:"
   ]
  },
  {
   "cell_type": "code",
   "execution_count": 3,
   "id": "19d9547f",
   "metadata": {},
   "outputs": [
    {
     "data": {
      "text/plain": [
       "3.141592653589793"
      ]
     },
     "execution_count": 3,
     "metadata": {},
     "output_type": "execute_result"
    }
   ],
   "source": [
    "np.pi"
   ]
  },
  {
   "cell_type": "markdown",
   "id": "e9b45f0f",
   "metadata": {},
   "source": [
    "If we only write the name of an object without performing any action, the object will be printed as an output. We can also use the print function:"
   ]
  },
  {
   "cell_type": "code",
   "execution_count": 4,
   "id": "2099e976",
   "metadata": {
    "scrolled": false
   },
   "outputs": [
    {
     "name": "stdout",
     "output_type": "stream",
     "text": [
      "3.141592653589793\n"
     ]
    }
   ],
   "source": [
    "print(np.pi)"
   ]
  },
  {
   "cell_type": "markdown",
   "id": "88632d86",
   "metadata": {},
   "source": [
    "## Creating variables"
   ]
  },
  {
   "cell_type": "markdown",
   "id": "31493397",
   "metadata": {},
   "source": [
    "Pi is already stored, but if you want to store your own data, you will have to create variables. Python infers what type a variable has based on the value it is first given. <span style=\"color:blue\"> Store a string of your choice in your_variable by writing it between the quotes:</span>"
   ]
  },
  {
   "cell_type": "code",
   "execution_count": 5,
   "id": "819afd63",
   "metadata": {},
   "outputs": [],
   "source": [
    "i = 1\n",
    "your_variable = \"\""
   ]
  },
  {
   "cell_type": "markdown",
   "id": "dc3ae3a4",
   "metadata": {},
   "source": [
    "## Functions"
   ]
  },
  {
   "cell_type": "markdown",
   "id": "aa1be863",
   "metadata": {},
   "source": [
    "Let's try another package:"
   ]
  },
  {
   "cell_type": "code",
   "execution_count": 6,
   "id": "3b0721a1",
   "metadata": {
    "scrolled": true
   },
   "outputs": [
    {
     "name": "stdout",
     "output_type": "stream",
     "text": [
      "\n"
     ]
    }
   ],
   "source": [
    "from art import *\n",
    "tprint(your_variable)\n",
    "#hint: if you don't see anything go back to the last codeblock"
   ]
  },
  {
   "cell_type": "markdown",
   "id": "6c0de721",
   "metadata": {},
   "source": [
    "With the tprint() function, you can also create other kinds of art. You will only have to pass more arguments into the (). To find out which arguments are possible, you can call the help function:"
   ]
  },
  {
   "cell_type": "code",
   "execution_count": 7,
   "id": "78320350",
   "metadata": {
    "scrolled": true
   },
   "outputs": [
    {
     "name": "stdout",
     "output_type": "stream",
     "text": [
      "Help on function tprint in module art.art:\n",
      "\n",
      "tprint(text, font='standard', chr_ignore=True, decoration=None, sep='\\n')\n",
      "    Print art text (support \\n).\n",
      "    \n",
      "    :param text: input text\n",
      "    :type text:str\n",
      "    :param font: input font\n",
      "    :type font:str\n",
      "    :param chr_ignore: ignore not supported character\n",
      "    :type chr_ignore:bool\n",
      "    :param decoration: text decoration\n",
      "    :type decoration:str\n",
      "    :param sep: line separator char\n",
      "    :type sep: str\n",
      "    :return: None\n",
      "\n"
     ]
    }
   ],
   "source": [
    "help(tprint)"
   ]
  },
  {
   "cell_type": "markdown",
   "id": "a43152de",
   "metadata": {},
   "source": [
    "In the second line of the help text, you see the possible parameters of the tprint() function with their default values. The first argument \"text\" is a positional argument. We just need to put it in the correct position for the function to know what to do with it. The other arguments are keyword arguments. The keyword arguments can be given in any order, but they must be behind all positional arguments. <span style=\"color:blue\"> Can you fix this function call? </span>"
   ]
  },
  {
   "cell_type": "code",
   "execution_count": 8,
   "id": "ba2e1482",
   "metadata": {
    "scrolled": true
   },
   "outputs": [
    {
     "ename": "SyntaxError",
     "evalue": "positional argument follows keyword argument (799928228.py, line 1)",
     "output_type": "error",
     "traceback": [
      "\u001b[0;36m  File \u001b[0;32m\"/var/folders/3z/3yycymms3kjftsz6xmzqgpyc0000gn/T/ipykernel_34236/799928228.py\"\u001b[0;36m, line \u001b[0;32m1\u001b[0m\n\u001b[0;31m    tprint(font=\"block\",\"TextTextText\")\u001b[0m\n\u001b[0m                       ^\u001b[0m\n\u001b[0;31mSyntaxError\u001b[0m\u001b[0;31m:\u001b[0m positional argument follows keyword argument\n"
     ]
    }
   ],
   "source": [
    "tprint(font=\"block\",\"TextTextText\")"
   ]
  },
  {
   "cell_type": "markdown",
   "id": "74ff9fe2",
   "metadata": {},
   "source": [
    "<span style=\"color:blue\"> Now use help() to find out how to use the function len() and then test it with your_variable:</span>"
   ]
  },
  {
   "cell_type": "code",
   "execution_count": null,
   "id": "4c3d4e10",
   "metadata": {
    "scrolled": true
   },
   "outputs": [],
   "source": []
  },
  {
   "cell_type": "code",
   "execution_count": null,
   "id": "93d5abfc",
   "metadata": {},
   "outputs": [],
   "source": []
  },
  {
   "cell_type": "markdown",
   "id": "32759dee",
   "metadata": {},
   "source": [
    "If you want to find out what other art you can create, you can find a documentation here: https://pypi.org/project/art/"
   ]
  }
 ],
 "metadata": {
  "kernelspec": {
   "display_name": "Python 3 (ipykernel)",
   "language": "python",
   "name": "python3"
  },
  "language_info": {
   "codemirror_mode": {
    "name": "ipython",
    "version": 3
   },
   "file_extension": ".py",
   "mimetype": "text/x-python",
   "name": "python",
   "nbconvert_exporter": "python",
   "pygments_lexer": "ipython3",
   "version": "3.7.15"
  }
 },
 "nbformat": 4,
 "nbformat_minor": 5
}
